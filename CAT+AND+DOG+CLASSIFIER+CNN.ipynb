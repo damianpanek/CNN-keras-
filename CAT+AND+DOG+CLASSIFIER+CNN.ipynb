{
 "cells": [
  {
   "cell_type": "code",
   "execution_count": 21,
   "metadata": {},
   "outputs": [],
   "source": [
    "import keras\n",
    "from keras.layers import Convolution2D\n",
    "from keras.layers import MaxPooling2D\n",
    "from keras.layers import Flatten\n",
    "from keras.layers import Dense\n",
    "from keras.models import Sequential\n"
   ]
  },
  {
   "cell_type": "code",
   "execution_count": 22,
   "metadata": {},
   "outputs": [
    {
     "name": "stderr",
     "output_type": "stream",
     "text": [
      "C:\\ProgramData\\Anaconda3\\lib\\site-packages\\ipykernel_launcher.py:12: UserWarning: Update your `Conv2D` call to the Keras 2 API: `Conv2D(32, (3, 3), input_shape=(64, 64, 3..., activation=\"relu\", padding=\"same\")`\n",
      "  if sys.path[0] == '':\n",
      "C:\\ProgramData\\Anaconda3\\lib\\site-packages\\ipykernel_launcher.py:18: UserWarning: Update your `Dense` call to the Keras 2 API: `Dense(activation=\"relu\", units=128)`\n",
      "C:\\ProgramData\\Anaconda3\\lib\\site-packages\\ipykernel_launcher.py:19: UserWarning: Update your `Dense` call to the Keras 2 API: `Dense(activation=\"sigmoid\", units=1)`\n"
     ]
    }
   ],
   "source": [
    "classifier = Sequential()\n",
    "\n",
    "# Convolution \n",
    "# First argument\n",
    "# nb_filter - number of convolution filters to use\n",
    "# number of rows and number of columns\n",
    "# Konstruowanie feature detectora. \n",
    "\n",
    "# 32 feature detectors o wymiarach 3/3\n",
    "\n",
    "classifier.add(Convolution2D(32, 3, 3, border_mode = 'same', input_shape =(64, 64, 3), \n",
    "                            activation = 'relu'))\n",
    "\n",
    "classifier.add(MaxPooling2D(pool_size = (2, 2)))\n",
    "classifier.add(Flatten())\n",
    " # Full connection\n",
    "    \n",
    "classifier.add(Dense(output_dim = 128, activation = 'relu'))\n",
    "classifier.add(Dense(output_dim = 1, activation = 'sigmoid'))\n",
    "\n",
    "# Kompilacja CNN\n",
    "\n",
    "classifier.compile(optimizer = 'adam', loss = 'binary_crossentropy', \n",
    "                  metrics = ['accuracy'])"
   ]
  },
  {
   "cell_type": "code",
   "execution_count": 27,
   "metadata": {},
   "outputs": [
    {
     "name": "stdout",
     "output_type": "stream",
     "text": [
      "Found 8000 images belonging to 2 classes.\n",
      "Found 2000 images belonging to 2 classes.\n",
      "Epoch 1/10\n"
     ]
    },
    {
     "name": "stderr",
     "output_type": "stream",
     "text": [
      "C:\\ProgramData\\Anaconda3\\lib\\site-packages\\ipykernel_launcher.py:26: UserWarning: The semantics of the Keras 2 argument `steps_per_epoch` is not the same as the Keras 1 argument `samples_per_epoch`. `steps_per_epoch` is the number of batches to draw from the generator at each epoch. Basically steps_per_epoch = samples_per_epoch/batch_size. Similarly `nb_val_samples`->`validation_steps` and `val_samples`->`steps` arguments have changed. Update your method calls accordingly.\n",
      "C:\\ProgramData\\Anaconda3\\lib\\site-packages\\ipykernel_launcher.py:26: UserWarning: Update your `fit_generator` call to the Keras 2 API: `fit_generator(<keras.pre..., validation_data=<keras.pre..., steps_per_epoch=250, epochs=10, validation_steps=2000)`\n"
     ]
    },
    {
     "name": "stdout",
     "output_type": "stream",
     "text": [
      "250/250 [==============================] - 237s - loss: 0.3505 - acc: 0.8344 - val_loss: 0.5003 - val_acc: 0.7797\n",
      "Epoch 2/10\n",
      "250/250 [==============================] - 237s - loss: 0.3549 - acc: 0.8367 - val_loss: 0.4869 - val_acc: 0.7902\n",
      "Epoch 3/10\n",
      "250/250 [==============================] - 246s - loss: 0.3479 - acc: 0.8408 - val_loss: 0.4936 - val_acc: 0.7827\n",
      "Epoch 4/10\n",
      "250/250 [==============================] - 258s - loss: 0.3505 - acc: 0.8365 - val_loss: 0.5273 - val_acc: 0.7745\n",
      "Epoch 5/10\n",
      "250/250 [==============================] - 257s - loss: 0.3641 - acc: 0.8283 - val_loss: 0.5159 - val_acc: 0.7812\n",
      "Epoch 6/10\n",
      "250/250 [==============================] - 253s - loss: 0.3534 - acc: 0.8361 - val_loss: 0.5088 - val_acc: 0.7834\n",
      "Epoch 7/10\n",
      "250/250 [==============================] - 234s - loss: 0.3512 - acc: 0.8342 - val_loss: 0.5116 - val_acc: 0.7873\n",
      "Epoch 8/10\n",
      "250/250 [==============================] - 221s - loss: 0.3448 - acc: 0.8424 - val_loss: 0.5038 - val_acc: 0.7919\n",
      "Epoch 9/10\n",
      "250/250 [==============================] - 245s - loss: 0.3389 - acc: 0.8420 - val_loss: 0.5406 - val_acc: 0.7820\n",
      "Epoch 10/10\n",
      "250/250 [==============================] - 221s - loss: 0.3458 - acc: 0.8397 - val_loss: 0.5208 - val_acc: 0.7761\n"
     ]
    },
    {
     "data": {
      "text/plain": [
       "<keras.callbacks.History at 0x17b3f4a3f60>"
      ]
     },
     "execution_count": 27,
     "metadata": {},
     "output_type": "execute_result"
    }
   ],
   "source": [
    "from keras.preprocessing.image import ImageDataGenerator\n",
    "\n",
    "train_datagen = ImageDataGenerator(\n",
    "    rescale = 1./255, \n",
    "    shear_range  = 0.2, \n",
    "    zoom_range = 0.2, \n",
    "    horizontal_flip = True)\n",
    "\n",
    "test_datagen = ImageDataGenerator(rescale = 1./255)\n",
    "\n",
    "training_set =  train_datagen.flow_from_directory('F:/UDEMY/Computer vision/Convolutional_Neural_Networks/dataset/training_set', \n",
    "                                                 target_size = (64, 64), \n",
    "                                                 batch_size = 32, \n",
    "                                                 class_mode = 'binary')\n",
    "\n",
    "\n",
    "test_set = test_datagen.flow_from_directory('F:/UDEMY/Computer vision/Convolutional_Neural_Networks/dataset/test_set',\n",
    "                                           target_size = (64, 64), \n",
    "                                           batch_size = 32, \n",
    "                                           class_mode = 'binary')\n",
    "\n",
    "classifier.fit_generator(training_set, \n",
    "                   samples_per_epoch = 8000, \n",
    "                   nb_epoch = 10, \n",
    "                   validation_data = test_set, \n",
    "                   nb_val_samples = 2000)\n"
   ]
  },
  {
   "cell_type": "code",
   "execution_count": 38,
   "metadata": {},
   "outputs": [],
   "source": [
    "from PIL import Image"
   ]
  },
  {
   "cell_type": "code",
   "execution_count": 62,
   "metadata": {},
   "outputs": [
    {
     "data": {
      "image/png": "[encoded data removed]",
      "text/plain": [
       "<matplotlib.figure.Figure at 0x17b45db2710>"
      ]
     },
     "metadata": {},
     "output_type": "display_data"
    }
   ],
   "source": [
    "import matplotlib.pyplot as plt\n",
    "\n",
    "test_image = image.load_img('D:/SAM_5791.jpg', target_size = (64,64))\n",
    "test_image = image.img_to_array(test_image)\n",
    "\n",
    "plt.imshow(test_image)\n",
    "plt.show()"
   ]
  },
  {
   "cell_type": "code",
   "execution_count": 63,
   "metadata": {},
   "outputs": [
    {
     "data": {
      "text/plain": [
       "{'cats': 0, 'dogs': 1}"
      ]
     },
     "execution_count": 63,
     "metadata": {},
     "output_type": "execute_result"
    }
   ],
   "source": [
    "import numpy as np \n",
    "from keras.preprocessing import image\n",
    "\n",
    "test_image = image.load_img('D:/SAM_5791.jpg', target_size = (64, 64))\n",
    "ttest_image = image.img_to_array(test_image)\n",
    "test_image=  np.expand_dims(test_image, axis = 0)\n",
    "\n",
    "\n",
    "result = classifier.predict(test_image)\n",
    "training_set.class_indices\n",
    "\n"
   ]
  },
  {
   "cell_type": "code",
   "execution_count": 64,
   "metadata": {},
   "outputs": [
    {
     "data": {
      "text/plain": [
       "array([[ 1.]], dtype=float32)"
      ]
     },
     "execution_count": 64,
     "metadata": {},
     "output_type": "execute_result"
    }
   ],
   "source": [
    "result"
   ]
  },
  {
   "cell_type": "code",
   "execution_count": 65,
   "metadata": {
    "collapsed": true
   },
   "outputs": [],
   "source": [
    "if result[0][0] ==  1:\n",
    "    prediction = 'Na zdjeciu jest pies'\n",
    "else:\n",
    "    prediction = 'na zdjeciu jest kot'\n",
    "    "
   ]
  },
  {
   "cell_type": "code",
   "execution_count": 66,
   "metadata": {},
   "outputs": [
    {
     "data": {
      "text/plain": [
       "'Na zdjeciu jest pies'"
      ]
     },
     "execution_count": 66,
     "metadata": {},
     "output_type": "execute_result"
    }
   ],
   "source": [
    "prediction"
   ]
  },
  {
   "cell_type": "code",
   "execution_count": null,
   "metadata": {
    "collapsed": true
   },
   "outputs": [],
   "source": []
  }
 ],
 "metadata": {
  "kernelspec": {
   "display_name": "Python 3",
   "language": "python",
   "name": "python3"
  },
  "language_info": {
   "codemirror_mode": {
    "name": "ipython",
    "version": 3
   },
   "file_extension": ".py",
   "mimetype": "text/x-python",
   "name": "python",
   "nbconvert_exporter": "python",
   "pygments_lexer": "ipython3",
   "version": "3.6.1"
  }
 },
 "nbformat": 4,
 "nbformat_minor": 2
}
